{
  "cells": [
    {
      "cell_type": "code",
      "execution_count": 125,
      "metadata": {
        "colab": {
          "base_uri": "https://localhost:8080/"
        },
        "id": "tR9LJUWmJ8of",
        "outputId": "e8677092-bde7-454b-b14d-bf6f05986ed7"
      },
      "outputs": [
        {
          "name": "stdout",
          "output_type": "stream",
          "text": [
            "KALKULATOR BANGUN RUANG\n",
            "______________________________\n",
            "\n",
            "Bangun ruang :\n",
            "1. Balok\n",
            "2. Kerucut\n",
            "3. Limas Segitiga\n",
            " \n",
            "Pilih nomer bangun ruang : \n",
            "1\n",
            "==============================\n",
            "\n",
            "Luas Permukaan & Volume Balok\n",
            "  p = panjang \n",
            "  l = lebar\n",
            "  t = tinggi \n",
            "\n",
            " #Gunakan titik(.) untuk koma\n",
            " #Gunakan satuan centimeter(cm)\n",
            "  p = 12\n",
            "  l = 23\n",
            "  t = 3\n",
            "\n",
            "Volume = 828.0 cm³\n",
            "Luas Permukaan = 762.0 cm²\n"
          ]
        }
      ],
      "source": [
        "print( 'KALKULATOR BANGUN RUANG' )\n",
        "print( '______________________________' '\\n' )\n",
        "print( 'Bangun ruang :' '\\n' '1. Balok' '\\n' '2. Kerucut' '\\n' '3. Limas Segitiga' '\\n ')\n",
        "print( 'Pilih nomer bangun ruang : ' )\n",
        "i = int( input( )) \n",
        "print( '==============================' '\\n' )\n",
        "print(\"TESTPAIPAIPAI\")\n",
        "if ( i == 1 ) :\n",
        "  print( 'Luas Permukaan & Volume Balok' )\n",
        "  print( '  p = panjang ''\\n' '  l = lebar''\\n' '  t = tinggi ''\\n' )\n",
        "  print( ' #Gunakan titik(.) untuk koma' '\\n' ' #Gunakan satuan centimeter(cm)' )\n",
        "\n",
        "  p = float( input( '  p = ' ) )\n",
        "  l = float( input( '  l = ' ) )\n",
        "  t = float( input( '  t = ' ) )\n",
        "  v = float( p*l*t )\n",
        "  lp = float( 2*(p*l+p*t+l*t) )\n",
        "\n",
        "  print( '\\n' 'Volume =', v, 'cm³' '\\n' 'Luas Permukaan =', lp, 'cm²' )\n",
        "\n",
        "elif ( i == 2) :\n",
        "  print( 'Luas Permukaan & Volume Kerucut' )\n",
        "  print( '  t = tinggi''\\n''  r = jari-jari''\\n' '  s = panjang garis pelukis (apotema)''\\n' '  π = 3,14''\\n' )\n",
        "  print( ' #Gunakan titik(.) untuk koma' '\\n' ' #Gunakan satuan centimeter(cm)' )\n",
        "\n",
        "  t = float( input( '  t = ' ) )\n",
        "  r = float( input( '  r = ' ) )\n",
        "  s = float( (r**2+t**2)**0.5 )\n",
        "  print( '  s = ', s )\n",
        "  v = float( (3.1415*r**2*t)/3 )\n",
        "  lp = float( 3.1415*r*(r+s) )\n",
        "\n",
        "  print( '\\n' 'Volume =', v, 'cm³' '\\n' 'Luas Permukaan =', lp, 'cm²' )\n",
        "\n",
        "elif ( i == 3 ) :\n",
        "  print( 'Luas Permukaan & Volume Bola' )\n",
        "  print( '  r = jari-jari''\\n' '  d = diameter''\\n' '  π = 3,14''\\n' )\n",
        "  print( ' #Gunakan titik(.) untuk koma' '\\n' ' #Gunakan satuan centimeter(cm)' )\n",
        "\n",
        "  r = float( input( '  r = ' ) )\n",
        "  v = float( (4*(r**3)*3.1415)/3 )\n",
        "  lp = float( 4*3.1415*r*r )\n",
        "\n",
        "  print( '\\n' 'Volume =', v, 'cm³' '\\n' 'Luas Permukaan =', lp, 'cm²' )\n",
        "\n",
        "else :\n",
        "  print( 'Maaf, input salah' )"
      ]
    }
  ],
  "metadata": {
    "colab": {
      "collapsed_sections": [],
      "name": "Tugas_SGprogramming_1301194123.ipynb",
      "provenance": []
    },
    "kernelspec": {
      "display_name": "Python 3",
      "name": "python3"
    }
  },
  "nbformat": 4,
  "nbformat_minor": 0
}
