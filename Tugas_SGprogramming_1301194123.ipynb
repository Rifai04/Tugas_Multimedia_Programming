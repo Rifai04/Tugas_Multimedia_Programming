{
  "nbformat": 4,
  "nbformat_minor": 0,
  "metadata": {
    "colab": {
      "name": "Tugas_SGprogramming_1301194123.ipynb",
      "provenance": [],
      "collapsed_sections": []
    },
    "kernelspec": {
      "name": "python3",
      "display_name": "Python 3"
    }
  },
  "cells": [
    {
      "cell_type": "code",
      "metadata": {
        "colab": {
          "base_uri": "https://localhost:8080/"
        },
        "id": "tR9LJUWmJ8of",
        "outputId": "e8677092-bde7-454b-b14d-bf6f05986ed7"
      },
      "source": [
        "print( 'KALKULATOR BANGUN RUANG' )\r\n",
        "print( '______________________________' '\\n' )\r\n",
        "print( 'Bangun ruang :' '\\n' '1. Balok' '\\n' '2. Kerucut' '\\n' '3. Limas Segitiga' '\\n ')\r\n",
        "print( 'Pilih nomer bangun ruang : ' )\r\n",
        "i = int( input( )) \r\n",
        "print( '==============================' '\\n' )\r\n",
        "\r\n",
        "if ( i == 1 ) :\r\n",
        "  print( 'Luas Permukaan & Volume Balok' )\r\n",
        "  print( '  p = panjang ''\\n' '  l = lebar''\\n' '  t = tinggi ''\\n' )\r\n",
        "  print( ' #Gunakan titik(.) untuk koma' '\\n' ' #Gunakan satuan centimeter(cm)' )\r\n",
        "\r\n",
        "  p = float( input( '  p = ' ) )\r\n",
        "  l = float( input( '  l = ' ) )\r\n",
        "  t = float( input( '  t = ' ) )\r\n",
        "  v = float( p*l*t )\r\n",
        "  lp = float( 2*(p*l+p*t+l*t) )\r\n",
        "\r\n",
        "  print( '\\n' 'Volume =', v, 'cm³' '\\n' 'Luas Permukaan =', lp, 'cm²' )\r\n",
        "\r\n",
        "elif ( i == 2) :\r\n",
        "  print( 'Luas Permukaan & Volume Kerucut' )\r\n",
        "  print( '  t = tinggi''\\n''  r = jari-jari''\\n' '  s = panjang garis pelukis (apotema)''\\n' '  π = 3,14''\\n' )\r\n",
        "  print( ' #Gunakan titik(.) untuk koma' '\\n' ' #Gunakan satuan centimeter(cm)' )\r\n",
        "\r\n",
        "  t = float( input( '  t = ' ) )\r\n",
        "  r = float( input( '  r = ' ) )\r\n",
        "  s = float( (r**2+t**2)**0.5 )\r\n",
        "  print( '  s = ', s )\r\n",
        "  v = float( (3.1415*r**2*t)/3 )\r\n",
        "  lp = float( 3.1415*r*(r+s) )\r\n",
        "\r\n",
        "  print( '\\n' 'Volume =', v, 'cm³' '\\n' 'Luas Permukaan =', lp, 'cm²' )\r\n",
        "\r\n",
        "elif ( i == 3 ) :\r\n",
        "  print( 'Luas Permukaan & Volume Bola' )\r\n",
        "  print( '  r = jari-jari''\\n' '  d = diameter''\\n' '  π = 3,14''\\n' )\r\n",
        "  print( ' #Gunakan titik(.) untuk koma' '\\n' ' #Gunakan satuan centimeter(cm)' )\r\n",
        "\r\n",
        "  r = float( input( '  r = ' ) )\r\n",
        "  v = float( (4*(r**3)*3.1415)/3 )\r\n",
        "  lp = float( 4*3.1415*r*r )\r\n",
        "\r\n",
        "  print( '\\n' 'Volume =', v, 'cm³' '\\n' 'Luas Permukaan =', lp, 'cm²' )\r\n",
        "\r\n",
        "else :\r\n",
        "  print( 'Maaf, input salah' )"
      ],
      "execution_count": 125,
      "outputs": [
        {
          "output_type": "stream",
          "text": [
            "KALKULATOR BANGUN RUANG\n",
            "______________________________\n",
            "\n",
            "Bangun ruang :\n",
            "1. Balok\n",
            "2. Kerucut\n",
            "3. Limas Segitiga\n",
            " \n",
            "Pilih nomer bangun ruang : \n",
            "1\n",
            "==============================\n",
            "\n",
            "Luas Permukaan & Volume Balok\n",
            "  p = panjang \n",
            "  l = lebar\n",
            "  t = tinggi \n",
            "\n",
            " #Gunakan titik(.) untuk koma\n",
            " #Gunakan satuan centimeter(cm)\n",
            "  p = 12\n",
            "  l = 23\n",
            "  t = 3\n",
            "\n",
            "Volume = 828.0 cm³\n",
            "Luas Permukaan = 762.0 cm²\n"
          ],
          "name": "stdout"
        }
      ]
    }
  ]
}